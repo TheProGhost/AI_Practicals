{
 "cells": [
  {
   "cell_type": "markdown",
   "metadata": {},
   "source": [
    "# Basic ANN using the tensorflow"
   ]
  },
  {
   "cell_type": "markdown",
   "metadata": {},
   "source": [
    "## importing the lobraries"
   ]
  },
  {
   "cell_type": "code",
   "execution_count": 2,
   "metadata": {},
   "outputs": [
    {
     "name": "stdout",
     "output_type": "stream",
     "text": [
      "Downloading data from https://storage.googleapis.com/tensorflow/tf-keras-datasets/mnist.npz\n",
      "11490434/11490434 [==============================] - 3s 0us/step\n"
     ]
    }
   ],
   "source": [
    "import tensorflow as tf\n",
    "from tensorflow import keras\n",
    "import matplotlib.pyplot as plt\n",
    "import numpy as np\n",
    "\n",
    "mnist = keras.datasets.mnist\n",
    "\n",
    "(x_train_full, y_train_full),(x_test, y_test) = mnist.load_data()"
   ]
  },
  {
   "cell_type": "code",
   "execution_count": 3,
   "metadata": {},
   "outputs": [
    {
     "data": {
      "text/plain": [
       "<matplotlib.image.AxesImage at 0x25181bba260>"
      ]
     },
     "execution_count": 3,
     "metadata": {},
     "output_type": "execute_result"
    },
    {
     "data": {
      "image/png": "[encoded data removed]",
      "text/plain": [
       "<Figure size 432x288 with 1 Axes>"
      ]
     },
     "metadata": {
      "needs_background": "light"
     },
     "output_type": "display_data"
    }
   ],
   "source": [
    "plt.imshow(x_train_full[12])"
   ]
  },
  {
   "cell_type": "markdown",
   "metadata": {},
   "source": [
    "## Normalizing the images"
   ]
  },
  {
   "cell_type": "code",
   "execution_count": 4,
   "metadata": {},
   "outputs": [],
   "source": [
    "x_train_normalized = x_train_full/255\n",
    "x_test_normalized = x_test/255\n",
    "\n",
    "x_valid, x_train = x_train_normalized[:5000], x_train_normalized[5000:]\n",
    "y_valid, y_train = y_train_full[:5000], y_train_full[5000:]\n",
    "\n",
    "x_test = x_test_normalized"
   ]
  },
  {
   "cell_type": "code",
   "execution_count": 5,
   "metadata": {},
   "outputs": [],
   "source": [
    "np.random.seed(42)\n",
    "tf.random.set_seed(42)"
   ]
  },
  {
   "cell_type": "markdown",
   "metadata": {},
   "source": [
    "## creating model"
   ]
  },
  {
   "cell_type": "code",
   "execution_count": 6,
   "metadata": {},
   "outputs": [],
   "source": [
    "model = keras.models.Sequential()\n",
    "\n",
    "model.add(keras.layers.Flatten(input_shape=[28,28]))\n",
    "model.add(keras.layers.Dense(300, activation=\"relu\"))\n",
    "model.add(keras.layers.Dense(400, activation=\"relu\"))\n",
    "model.add(keras.layers.Dense(100, activation=\"relu\"))\n",
    "model.add(keras.layers.Dense(10, activation=\"softmax\"))"
   ]
  },
  {
   "cell_type": "code",
   "execution_count": 7,
   "metadata": {},
   "outputs": [
    {
     "name": "stdout",
     "output_type": "stream",
     "text": [
      "Model: \"sequential\"\n",
      "_________________________________________________________________\n",
      " Layer (type)                Output Shape              Param #   \n",
      "=================================================================\n",
      " flatten (Flatten)           (None, 784)               0         \n",
      "                                                                 \n",
      " dense (Dense)               (None, 300)               235500    \n",
      "                                                                 \n",
      " dense_1 (Dense)             (None, 400)               120400    \n",
      "                                                                 \n",
      " dense_2 (Dense)             (None, 100)               40100     \n",
      "                                                                 \n",
      " dense_3 (Dense)             (None, 10)                1010      \n",
      "                                                                 \n",
      "=================================================================\n",
      "Total params: 397,010\n",
      "Trainable params: 397,010\n",
      "Non-trainable params: 0\n",
      "_________________________________________________________________\n"
     ]
    }
   ],
   "source": [
    "model.summary()"
   ]
  },
  {
   "cell_type": "markdown",
   "metadata": {},
   "source": [
    "### Compiling the model"
   ]
  },
  {
   "cell_type": "code",
   "execution_count": 8,
   "metadata": {},
   "outputs": [],
   "source": [
    "model.compile(loss=\"sparse_categorical_crossentropy\",\n",
    "              optimizer=\"sgd\",\n",
    "              metrics=[\"accuracy\"])"
   ]
  },
  {
   "cell_type": "markdown",
   "metadata": {},
   "source": [
    "### Fitting the model"
   ]
  },
  {
   "cell_type": "code",
   "execution_count": 9,
   "metadata": {},
   "outputs": [
    {
     "name": "stdout",
     "output_type": "stream",
     "text": [
      "Epoch 1/30\n",
      "1719/1719 [==============================] - 4s 2ms/step - loss: 0.6234 - accuracy: 0.8373 - val_loss: 0.2896 - val_accuracy: 0.9184\n",
      "Epoch 2/30\n",
      "1719/1719 [==============================] - 3s 2ms/step - loss: 0.2687 - accuracy: 0.9221 - val_loss: 0.2187 - val_accuracy: 0.9392\n",
      "Epoch 3/30\n",
      "1719/1719 [==============================] - 3s 2ms/step - loss: 0.2100 - accuracy: 0.9382 - val_loss: 0.1757 - val_accuracy: 0.9506\n",
      "Epoch 4/30\n",
      "1719/1719 [==============================] - 3s 2ms/step - loss: 0.1712 - accuracy: 0.9502 - val_loss: 0.1502 - val_accuracy: 0.9588\n",
      "Epoch 5/30\n",
      "1719/1719 [==============================] - 3s 2ms/step - loss: 0.1446 - accuracy: 0.9580 - val_loss: 0.1351 - val_accuracy: 0.9606\n",
      "Epoch 6/30\n",
      "1719/1719 [==============================] - 4s 2ms/step - loss: 0.1246 - accuracy: 0.9639 - val_loss: 0.1191 - val_accuracy: 0.9674\n",
      "Epoch 7/30\n",
      "1719/1719 [==============================] - 3s 2ms/step - loss: 0.1084 - accuracy: 0.9688 - val_loss: 0.1109 - val_accuracy: 0.9692\n",
      "Epoch 8/30\n",
      "1719/1719 [==============================] - 4s 2ms/step - loss: 0.0957 - accuracy: 0.9722 - val_loss: 0.1097 - val_accuracy: 0.9678\n",
      "Epoch 9/30\n",
      "1719/1719 [==============================] - 4s 2ms/step - loss: 0.0854 - accuracy: 0.9755 - val_loss: 0.0964 - val_accuracy: 0.9726\n",
      "Epoch 10/30\n",
      "1719/1719 [==============================] - 4s 2ms/step - loss: 0.0769 - accuracy: 0.9776 - val_loss: 0.0888 - val_accuracy: 0.9748\n",
      "Epoch 11/30\n",
      "1719/1719 [==============================] - 4s 2ms/step - loss: 0.0689 - accuracy: 0.9801 - val_loss: 0.0869 - val_accuracy: 0.9756\n",
      "Epoch 12/30\n",
      "1719/1719 [==============================] - 4s 2ms/step - loss: 0.0619 - accuracy: 0.9830 - val_loss: 0.0867 - val_accuracy: 0.9750\n",
      "Epoch 13/30\n",
      "1719/1719 [==============================] - 4s 2ms/step - loss: 0.0563 - accuracy: 0.9843 - val_loss: 0.0805 - val_accuracy: 0.9770\n",
      "Epoch 14/30\n",
      "1719/1719 [==============================] - 4s 2ms/step - loss: 0.0509 - accuracy: 0.9855 - val_loss: 0.0800 - val_accuracy: 0.9772\n",
      "Epoch 15/30\n",
      "1719/1719 [==============================] - 4s 2ms/step - loss: 0.0467 - accuracy: 0.9871 - val_loss: 0.0783 - val_accuracy: 0.9766\n",
      "Epoch 16/30\n",
      "1719/1719 [==============================] - 4s 2ms/step - loss: 0.0420 - accuracy: 0.9881 - val_loss: 0.0775 - val_accuracy: 0.9778\n",
      "Epoch 17/30\n",
      "1719/1719 [==============================] - 4s 2ms/step - loss: 0.0382 - accuracy: 0.9896 - val_loss: 0.0735 - val_accuracy: 0.9782\n",
      "Epoch 18/30\n",
      "1719/1719 [==============================] - 4s 2ms/step - loss: 0.0349 - accuracy: 0.9906 - val_loss: 0.0714 - val_accuracy: 0.9794\n",
      "Epoch 19/30\n",
      "1719/1719 [==============================] - 4s 2ms/step - loss: 0.0315 - accuracy: 0.9917 - val_loss: 0.0706 - val_accuracy: 0.9812\n",
      "Epoch 20/30\n",
      "1719/1719 [==============================] - 4s 2ms/step - loss: 0.0285 - accuracy: 0.9927 - val_loss: 0.0737 - val_accuracy: 0.9792\n",
      "Epoch 21/30\n",
      "1719/1719 [==============================] - 4s 2ms/step - loss: 0.0263 - accuracy: 0.9932 - val_loss: 0.0693 - val_accuracy: 0.9818\n",
      "Epoch 22/30\n",
      "1719/1719 [==============================] - 4s 2ms/step - loss: 0.0233 - accuracy: 0.9947 - val_loss: 0.0737 - val_accuracy: 0.9790\n",
      "Epoch 23/30\n",
      "1719/1719 [==============================] - 4s 2ms/step - loss: 0.0214 - accuracy: 0.9950 - val_loss: 0.0725 - val_accuracy: 0.9792\n",
      "Epoch 24/30\n",
      "1719/1719 [==============================] - 4s 2ms/step - loss: 0.0192 - accuracy: 0.9957 - val_loss: 0.0734 - val_accuracy: 0.9800\n",
      "Epoch 25/30\n",
      "1719/1719 [==============================] - 4s 2ms/step - loss: 0.0176 - accuracy: 0.9963 - val_loss: 0.0690 - val_accuracy: 0.9810\n",
      "Epoch 26/30\n",
      "1719/1719 [==============================] - 4s 2ms/step - loss: 0.0160 - accuracy: 0.9969 - val_loss: 0.0685 - val_accuracy: 0.9812\n",
      "Epoch 27/30\n",
      "1719/1719 [==============================] - 4s 2ms/step - loss: 0.0144 - accuracy: 0.9975 - val_loss: 0.0685 - val_accuracy: 0.9810\n",
      "Epoch 28/30\n",
      "1719/1719 [==============================] - 4s 2ms/step - loss: 0.0132 - accuracy: 0.9977 - val_loss: 0.0721 - val_accuracy: 0.9818\n",
      "Epoch 29/30\n",
      "1719/1719 [==============================] - 4s 2ms/step - loss: 0.0116 - accuracy: 0.9984 - val_loss: 0.0710 - val_accuracy: 0.9820\n",
      "Epoch 30/30\n",
      "1719/1719 [==============================] - 4s 2ms/step - loss: 0.0106 - accuracy: 0.9986 - val_loss: 0.0702 - val_accuracy: 0.9812\n"
     ]
    }
   ],
   "source": [
    "model_history = model.fit(x_train,y_train,epochs=30,validation_data=(x_valid,y_valid))"
   ]
  },
  {
   "cell_type": "markdown",
   "metadata": {},
   "source": [
    "### Prediction"
   ]
  },
  {
   "cell_type": "code",
   "execution_count": 10,
   "metadata": {},
   "outputs": [
    {
     "name": "stdout",
     "output_type": "stream",
     "text": [
      "1/1 [==============================] - 0s 68ms/step\n"
     ]
    }
   ],
   "source": [
    "x_sample = x_test[:5]\n",
    "y_probability = model.predict(x_sample)"
   ]
  },
  {
   "cell_type": "code",
   "execution_count": 11,
   "metadata": {},
   "outputs": [
    {
     "name": "stdout",
     "output_type": "stream",
     "text": [
      "[[1.2861960e-08 8.3762131e-08 4.1368352e-07 2.1597988e-04 1.9399813e-09\n",
      "  2.5536604e-08 2.3315055e-13 9.9978012e-01 5.5084763e-07 2.7619844e-06]\n",
      " [2.9821922e-06 9.7838616e-05 9.9988735e-01 7.6596962e-06 1.7418808e-12\n",
      "  3.8768002e-09 6.9051754e-07 1.6849569e-11 3.4151960e-06 4.1155102e-14]\n",
      " [3.7254566e-07 9.9854940e-01 1.6285207e-05 1.9624356e-06 4.9648581e-05\n",
      "  1.4957484e-06 2.1730937e-05 1.2122388e-03 1.4601703e-04 7.1596440e-07]\n",
      " [9.9997258e-01 1.0794888e-08 2.4102692e-05 1.1689054e-08 1.5874738e-08\n",
      "  7.7561735e-09 3.6145761e-07 2.7584672e-06 7.2446285e-11 2.5630328e-07]\n",
      " [1.5043062e-07 9.4373078e-09 1.5319409e-07 9.3469753e-11 9.9956959e-01\n",
      "  4.1508335e-09 1.2480380e-07 2.1346571e-04 1.9215742e-07 2.1629446e-04]]\n"
     ]
    }
   ],
   "source": [
    "print(y_probability)"
   ]
  },
  {
   "cell_type": "code",
   "execution_count": 12,
   "metadata": {},
   "outputs": [
    {
     "name": "stdout",
     "output_type": "stream",
     "text": [
      "1/1 [==============================] - 0s 15ms/step\n"
     ]
    }
   ],
   "source": [
    "y_predict = model.predict(x_sample)"
   ]
  },
  {
   "cell_type": "code",
   "execution_count": 13,
   "metadata": {},
   "outputs": [
    {
     "name": "stdout",
     "output_type": "stream",
     "text": [
      "[[1.2861960e-08 8.3762131e-08 4.1368352e-07 2.1597988e-04 1.9399813e-09\n",
      "  2.5536604e-08 2.3315055e-13 9.9978012e-01 5.5084763e-07 2.7619844e-06]\n",
      " [2.9821922e-06 9.7838616e-05 9.9988735e-01 7.6596962e-06 1.7418808e-12\n",
      "  3.8768002e-09 6.9051754e-07 1.6849569e-11 3.4151960e-06 4.1155102e-14]\n",
      " [3.7254566e-07 9.9854940e-01 1.6285207e-05 1.9624356e-06 4.9648581e-05\n",
      "  1.4957484e-06 2.1730937e-05 1.2122388e-03 1.4601703e-04 7.1596440e-07]\n",
      " [9.9997258e-01 1.0794888e-08 2.4102692e-05 1.1689054e-08 1.5874738e-08\n",
      "  7.7561735e-09 3.6145761e-07 2.7584672e-06 7.2446285e-11 2.5630328e-07]\n",
      " [1.5043062e-07 9.4373078e-09 1.5319409e-07 9.3469753e-11 9.9956959e-01\n",
      "  4.1508335e-09 1.2480380e-07 2.1346571e-04 1.9215742e-07 2.1629446e-04]]\n"
     ]
    }
   ],
   "source": [
    "print(y_predict)"
   ]
  },
  {
   "cell_type": "code",
   "execution_count": null,
   "metadata": {},
   "outputs": [],
   "source": []
  }
 ],
 "metadata": {
  "kernelspec": {
   "display_name": "Python 3.10.4 64-bit",
   "language": "python",
   "name": "python3"
  },
  "language_info": {
   "codemirror_mode": {
    "name": "ipython",
    "version": 3
   },
   "file_extension": ".py",
   "mimetype": "text/x-python",
   "name": "python",
   "nbconvert_exporter": "python",
   "pygments_lexer": "ipython3",
   "version": "3.10.4"
  },
  "orig_nbformat": 4,
  "vscode": {
   "interpreter": {
    "hash": "26de051ba29f2982a8de78e945f0abaf191376122a1563185a90213a26c5da77"
   }
  }
 },
 "nbformat": 4,
 "nbformat_minor": 2
}
